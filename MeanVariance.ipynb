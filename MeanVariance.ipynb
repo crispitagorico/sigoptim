{
  "nbformat": 4,
  "nbformat_minor": 0,
  "metadata": {
    "colab": {
      "provenance": [],
      "include_colab_link": true
    },
    "kernelspec": {
      "name": "python3",
      "display_name": "Python 3"
    },
    "language_info": {
      "name": "python"
    },
    "accelerator": "GPU",
    "gpuClass": "standard"
  },
  "cells": [
    {
      "cell_type": "markdown",
      "metadata": {
        "id": "view-in-github",
        "colab_type": "text"
      },
      "source": [
        "<a href=\"https://colab.research.google.com/github/crispitagorico/sigoptim/blob/main/MeanVariance.ipynb\" target=\"_parent\"><img src=\"https://colab.research.google.com/assets/colab-badge.svg\" alt=\"Open In Colab\"/></a>"
      ]
    },
    {
      "cell_type": "markdown",
      "source": [
        "Let $P$ be a portfolio of assets $A_1,...,A_N$ with weights $\\mathbf w = (w_1,...,w_N) \\in \\mathbb{R}^N$ and (random) returns $\\mathbf r = (r_1,...,r_N) \\in \\mathbb{R}^N$. \n",
        "\n",
        "The portfolio total expected P&L is given by\n",
        "$$\\mathbf w^\\top \\mathbb E[\\mathbf r] = \\sum_{i=1}^N w_i \\mathbb E[r_i].$$\n",
        "\n",
        "Let $\\Sigma = \\mathbb E[(\\mathbf r - \\mathbb E[\\mathbf r])(\\mathbf r - \\mathbb E[\\mathbf r])^\\top]$ be the covariance matrix of the returns.\n",
        "\n",
        "The portfolio total risk is given by\n",
        "$$\\mathbf w^\\top \\Sigma \\mathbf w = \\sum_{i,j=1}^N w_i\\Sigma_{i,j}w_j.$$\n",
        "\n",
        "The mean-variance optimisation problem is formulated as follows\n",
        "$$\\min_{\\mathbf w} \\mathbf w^\\top \\Sigma \\mathbf w \\quad \\text{ subject to } \\ \\mathbf w^\\top \\mathbb E[\\mathbf r] = \\mu, \\ \\sum_{i=1}^Nw_i=1 \\ \\text{ and } \\ 0 \\leq w_i \\leq 1,$$\n",
        "\n",
        "where $\\lambda \\in [0,\\infty)$ is a risk tolerance parameter."
      ],
      "metadata": {
        "id": "m1w3Hld1eSmy"
      }
    },
    {
      "cell_type": "code",
      "source": [
        "import numpy as np\n",
        "import pandas as pd\n",
        "import scipy \n",
        "import matplotlib.pyplot as plt"
      ],
      "metadata": {
        "id": "O1hdKLAhssTm"
      },
      "execution_count": 2,
      "outputs": []
    },
    {
      "cell_type": "code",
      "source": [
        "def mean_variance_optim(expected_returns, covariance_matrix_returns, expected_pnl):\n",
        "\n",
        "    # initialise weights\n",
        "    N = expected_returns.size\n",
        "    w0 = np.ones(N)\n",
        "\n",
        "    # objective\n",
        "    objective = lambda w: np.matmul(w.T, np.matmul(covariance_matrix_returns, w))\n",
        "\n",
        "    # constraints\n",
        "    bnds = tuple(N*[(0., 1.)])\n",
        "    cons = ({'type': 'eq', 'fun': lambda w: np.sum(w) - 1.},\n",
        "            {'type': 'eq', 'fun': lambda w: np.matmul(w.T, expected_returns) - expected_pnl})\n",
        "\n",
        "    # run optimisation\n",
        "    optim = scipy.optimize.minimize(fun=objective, x0=w0, bounds=bnds, constraints=cons)\n",
        "\n",
        "    # return optimal weights \n",
        "    return optim.x"
      ],
      "metadata": {
        "id": "xfrFt8qj1HVV"
      },
      "execution_count": 267,
      "outputs": []
    },
    {
      "cell_type": "code",
      "source": [
        "# number of assets\n",
        "N = 10\n",
        "\n",
        "# stocks\n",
        "df      = pd.read_csv('stocks.csv')\n",
        "names   = df.columns[1:N+1].to_list()\n",
        "prices  = df.iloc[-40:, 1:N+1].to_numpy()\n",
        "returns = np.diff(prices, axis=0)\n",
        "\n",
        "# expected returns\n",
        "expected_returns = np.mean(returns, axis=0)\n",
        "\n",
        "# covariance matrix of returns\n",
        "covariance_matrix_returns = np.cov(returns, rowvar=False)\n",
        "\n",
        "# expected portfolio returns\n",
        "expected_pnls = np.linspace(0.01, 2, 50)\n",
        "\n",
        "# optimal weights for given expected returns\n",
        "optimal_weights = [mean_variance_optim(expected_returns, covariance_matrix_returns, pnl) for pnl in expected_pnls]\n",
        "\n",
        "# actual portfolio P&L\n",
        "pnls = [np.matmul(w.T, expected_returns) for w in optimal_weights]\n",
        "\n",
        "# portfolio risk\n",
        "risks = [np.matmul(w.T, np.matmul(covariance_matrix_returns, w)) for w in optimal_weights]"
      ],
      "metadata": {
        "id": "rcmZAyg8s2p-"
      },
      "execution_count": 270,
      "outputs": []
    },
    {
      "cell_type": "code",
      "source": [
        "plt.scatter(risks, pnls)\n",
        "plt.xlabel('Portfolio risk')\n",
        "plt.ylabel('Portfolio P&L')\n",
        "plt.title('Efficient frontier')\n",
        "plt.show()"
      ],
      "metadata": {
        "colab": {
          "base_uri": "https://localhost:8080/",
          "height": 295
        },
        "id": "YActw6c-zaK7",
        "outputId": "449074a6-4cbc-4e1f-b742-b8b79c17dd8c"
      },
      "execution_count": 280,
      "outputs": [
        {
          "output_type": "display_data",
          "data": {
            "text/plain": [
              "<Figure size 432x288 with 1 Axes>"
            ],
            "image/png": "[encoded data removed]"
          },
          "metadata": {
            "needs_background": "light"
          }
        }
      ]
    }
  ]
}