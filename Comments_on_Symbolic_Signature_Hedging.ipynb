{
 "cells": [
  {
   "cell_type": "code",
   "execution_count": 14,
   "metadata": {
    "colab": {
     "base_uri": "https://localhost:8080/"
    },
    "id": "GUYovrMYVwNy",
    "outputId": "2b979489-29cd-4284-c66b-d136677ab4f5"
   },
   "outputs": [
    {
     "name": "stdout",
     "output_type": "stream",
     "text": [
      "Cloning into 'Hall-areas'...\n",
      "remote: Enumerating objects: 68, done.\u001B[K\n",
      "remote: Counting objects: 100% (68/68), done.\u001B[K\n",
      "remote: Compressing objects: 100% (53/53), done.\u001B[K\n",
      "remote: Total 68 (delta 28), reused 47 (delta 12), pack-reused 0\u001B[K\n",
      "Unpacking objects: 100% (68/68), 840.82 KiB | 3.05 MiB/s, done.\n",
      "Looking in indexes: https://pypi.org/simple, https://us-python.pkg.dev/colab-wheels/public/simple/\n",
      "Requirement already satisfied: iisignature in /usr/local/lib/python3.8/dist-packages (0.24)\n",
      "Requirement already satisfied: numpy>1.7 in /usr/local/lib/python3.8/dist-packages (from iisignature) (1.22.4)\n"
     ]
    }
   ],
   "source": [
    "!git clone https://github.com/crispitagorico/Hall-areas.git\n",
    "!pip install iisignature"
   ]
  },
  {
   "cell_type": "code",
   "execution_count": 15,
   "metadata": {
    "colab": {
     "base_uri": "https://localhost:8080/"
    },
    "id": "USL6QQwlTk73",
    "outputId": "c4ecd70c-6e71-4116-b645-c72240c4666c"
   },
   "outputs": [
    {
     "name": "stdout",
     "output_type": "stream",
     "text": [
      "/content/Hall-areas/Hall-areas\n"
     ]
    }
   ],
   "source": [
    "%cd Hall-areas/"
   ]
  },
  {
   "cell_type": "code",
   "execution_count": 16,
   "metadata": {
    "id": "NBXY69YQVeee"
   },
   "outputs": [],
   "source": [
    "import numpy as np\n",
    "import torch\n",
    "import matplotlib.pyplot as plt\n",
    "from sklearn.linear_model import LinearRegression\n",
    "import sympy as sym\n",
    "from itertools import product\n",
    "from tqdm.notebook import trange\n",
    "\n",
    "from free_lie_algebra import *\n",
    "import iisignature"
   ]
  },
  {
   "cell_type": "markdown",
   "metadata": {
    "id": "f0-2dWbRVnNh"
   },
   "source": [
    "## Mathematical derivation\n",
    "\n",
    "Suppose that $X$ is $1$-dimensional and let $\\hat X_t = (t,X_t) \\in \\mathbb{R}^2$ and assume for simplicity that $X_0 = 0$. Let $n \\in \\mathbb{N}$ be a truncation hyperparameter. \n",
    "\n",
    "We are interested in the following optimisation\n",
    "\n",
    "$$\\min_{\\ell \\in T^n((\\mathbb{R}^2)^*)}\\mathbb{E}\\left[\\left(f(\\hat X_{0,T}) - p_0 - \\int_0^T(\\ell,S(\\hat X)_{0,t})dX_t\\right)^2\\right] \\quad \\text{where} \\quad \\ell = \\sum_{|w| \\leq n} \\alpha_w w$$\n",
    "\n",
    "In what follows $\\{\\mathbf 1, \\mathbf 2\\}$ are letters.\n",
    "\n",
    "\n",
    "Let $n_0 \\in \\mathbb{N}$. We approximate (offline) the payoff $f$ by a signature payoff, i.e. we find $\\ell_0 \\in T^{n_0}((\\mathbb{R}^2)^*)$ such that\n",
    "\n",
    "$$f(\\hat X_{0,T}) \\approx \\left(\\ell_0, S(\\hat X)_{0,T}\\right) \\quad \\text{where} \\quad \\ell_0 = \\sum_{|w| \\leq n_0} \\beta_w w$$\n",
    "\n",
    "Let $* : T((\\mathbb{R}^2))^* \\times T((\\mathbb{R}^2))^* \\to T((\\mathbb{R}^2))^*$ be the shuffle product. \n",
    "\n",
    "Define the half-shuffle product $\\prec : T((\\mathbb{R}^2))^* \\times T((\\mathbb{R}^2))^* \\to T((\\mathbb{R}^2))^*$ as follows (it suffices to define it on basis elements, i.e. words): \n",
    "\n",
    "for two words $v$ and $w=w_1...w_n$\n",
    "\n",
    "$$v \\prec w = (v * w_1...w_{n-1})w_n$$\n",
    "\n",
    "Then, the P&L can be rewritten as follows\n",
    "\n",
    "$$\\int_0^T(\\ell,S(\\hat X)_{0,t})dX_t = \\left((\\ell \\prec \\mathbf{2}), S(\\hat X)_{0,T}\\right)$$\n",
    "\n",
    "The full optimisation can be rewritten as follows\n",
    "\n",
    "\\begin{align}\n",
    "    \\min_{\\ell \\in T^n((\\mathbb{R}^2)^*)}\\mathbb{E}\\left[\\left((\\ell_0, S(\\hat X)_{0,T}) - (\\textbf 0, S(\\hat X)_{0,T}) p_0 - \\left((\\ell \\prec \\mathbf{2}), S(\\hat X)_{0,T}\\right)\\right)^2\\right] \n",
    "    &= \\min_{\\ell \\in T^n((\\mathbb{R}^2))^*}\\mathbb{E}\\left[\\left((\\ell_0 - p_0 \\textbf 0 - (\\ell \\prec \\mathbf{2}), S(\\hat X)_{0,T})\\right)^2\\right] \\\\\n",
    "    &= \\min_{\\ell \\in T^n((\\mathbb{R}^2))^*}\\mathbb{E}\\left[(\\ell_0 - p_0 \\textbf 0 - (\\ell \\prec \\mathbf{2})) * (\\ell_0 - p_0 \\textbf 0 - (\\ell \\prec \\mathbf{2})) , S(\\hat X)_{0,T}) \\right] \\\\\n",
    "    &= \\min_{\\ell \\in T^n((\\mathbb{R}^2))^*}\\left(\\ell_0 - p_0 \\textbf 0 - (\\ell \\prec \\mathbf{2})) * (\\ell_0 - p_0 \\textbf 0 - (\\ell \\prec \\mathbf{2}) , \\mathbb{E}\\left[S(\\hat X)_{0,T}) \\right] \\right)\n",
    "\\end{align}"
   ]
  },
  {
   "cell_type": "code",
   "execution_count": 32,
   "metadata": {
    "id": "MUYdVVHwP8vw"
   },
   "outputs": [],
   "source": [
    "# utility\n",
    "def make_linear_functional(coeffs, n_):\n",
    "    linear_functional = 0.*word2Elt('')\n",
    "    for i, w in enumerate(wordIter(2, n_)):\n",
    "        linear_functional += coeffs[i]*word2Elt(w)\n",
    "    return linear_functional"
   ]
  },
  {
   "cell_type": "markdown",
   "metadata": {
    "id": "Fpzy1LOkGfbf"
   },
   "source": [
    "### Price paths sampler"
   ]
  },
  {
   "cell_type": "code",
   "execution_count": 33,
   "metadata": {
    "id": "-SVOsLozBdmC"
   },
   "outputs": [],
   "source": [
    "def gBM(N, T=1, length=100, X0=1., mu=0.01, sigma=0.2):\n",
    "    \"\"\" Time-augmented geometric BM sampler\n",
    "    \n",
    "    - Inputs:\n",
    "        - N (int)       : number of sample paths\n",
    "        - T (float)     : maturity\n",
    "        - length (int)  : number of time steps\n",
    "        - X0 (float)    : initial stock price\n",
    "        - mu (float)    : drift\n",
    "        - sigma (float) : volatility\n",
    "   \n",
    "    - Output:\n",
    "        - X: np array of shape (N, n, 2)\n",
    "    \"\"\"\n",
    "    \n",
    "    dt = T/length\n",
    "    X = np.exp((mu - sigma ** 2 / 2) * dt + sigma * np.random.normal(0, np.sqrt(dt), size=(N, length-1)).T)\n",
    "    X = np.vstack([np.ones(N), X])\n",
    "    X = (X0 * X.cumprod(axis=0)).T - X0 # !! shifting paths to start at 0 otherwise half-shuffle relation must be modified !!\n",
    "\n",
    "    t = np.linspace(0, T, length)\n",
    "    return np.array([np.c_[t, x] for x in X])"
   ]
  },
  {
   "cell_type": "markdown",
   "metadata": {
    "id": "CCEMcKiGOyXx"
   },
   "source": [
    "### Expected signature"
   ]
  },
  {
   "cell_type": "code",
   "execution_count": 34,
   "metadata": {
    "id": "vScZpbuaOvy5"
   },
   "outputs": [],
   "source": [
    "def ES(N, n_):\n",
    "    X = gBM(N)\n",
    "    sigX = iisignature.sig(X, n_)\n",
    "    esigX = np.array([1.] + list(np.mean(sigX, axis=0))) \n",
    "    return make_linear_functional(esigX, n_)"
   ]
  },
  {
   "cell_type": "markdown",
   "metadata": {
    "id": "2_mF7bwy-rYm"
   },
   "source": [
    "### Signature payoff approximation\n",
    "\n",
    "- Inputs: \n",
    "  - (f) payoff function $f : C_1([0,T],\\mathbb{R}^2) \\to \\mathbb{R}$;\n",
    "  - ($n_0 \\in \\mathbb{N}$) truncation level;\n",
    "  - ($N \\in \\mathbb{N}$) number of sample paths to do the regression on.\n",
    "\n",
    "- Output: \n",
    "  - linear functional $\\ell_0 = \\sum_{|w| \\leq n_0} \\beta_w w$ such that $f(\\hat X_{0,T}) \\approx \\left(\\ell_0, S(\\hat X)_{0,T}\\right)$"
   ]
  },
  {
   "cell_type": "code",
   "execution_count": 36,
   "metadata": {
    "id": "245KReiX-ox9"
   },
   "outputs": [],
   "source": [
    "def sig_payoff_approximation(f, n0, N=1000):\n",
    "    X = gBM(N)\n",
    "    sigX = iisignature.sig(X, n0)\n",
    "    payoffs = np.array([f_asian(x[:,1]) for x in X])\n",
    "    lr_model = LinearRegression(fit_intercept=True)\n",
    "    lr_model.fit(sigX, payoffs)\n",
    "    coeffs = [lr_model.intercept_] + list(lr_model.coef_)\n",
    "    return make_linear_functional(coeffs, n0)\n",
    "\n",
    "# ## comment: I think we need to use forwards instead of options in the payoff approximation as the function max() cannot be linearly approximated using signatures.\n",
    "# ## use sklearn\n",
    "# def sig_payoff_approximation(f, n0, N=1000):\n",
    "#     X = gBM(N)\n",
    "#     sigX = iisignature.sig(X, n0)\n",
    "#     payoffs = np.array([f_asian(x[:,1]) for x in X])\n",
    "#     sigX = sigX[np.where(payoffs > 1e-6)]\n",
    "#     payoffs = payoffs[np.where(payoffs > 1e-6)]\n",
    "#     lr_model = LinearRegression(fit_intercept=True)\n",
    "#     lr_model.fit(sigX, payoffs)\n",
    "#     print(lr_model.intercept_, lr_model.coef_)\n",
    "#     print(sum(lr_model.predict(sigX) - payoffs > 1e-6))\n",
    "#     coeffs = [lr_model.intercept_] + list(lr_model.coef_)\n",
    "#     return make_linear_functional(coeffs, n0)\n",
    "\n",
    "## use statsmodels\n",
    "# def sig_payoff_approximation(f, n0, N=1000):\n",
    "#     import statsmodels.api as sm\n",
    "#     X = gBM(N)\n",
    "#     sigX = iisignature.sig(X, n0)\n",
    "#     payoffs = np.array([f_asian(x[:,1]) for x in X])\n",
    "#     sigX = sigX[np.where(payoffs > 1e-6)]\n",
    "#     payoffs = payoffs[np.where(payoffs > 1e-6)]\n",
    "#     sigs = sm.add_constant(sigX, has_constant='add')\n",
    "#     mod = sm.OLS(payoffs, sigs)\n",
    "#     res = mod.fit()\n",
    "#     print(res.summary())\n",
    "#     print('errors:', sum(res.predict(sigs)-payoffs > 1e-6))\n",
    "#     return make_linear_functional(res.params, n0)"
   ]
  },
  {
   "cell_type": "markdown",
   "metadata": {
    "id": "9qKjsV2P6gm5"
   },
   "source": [
    "### Symbolic computation of linear functional $\\ell_0 - p_0 \\textbf 0 - (\\ell \\prec \\mathbf{2})) * (\\ell_0 - p_0 \\textbf 0 - (\\ell \\prec \\mathbf{2})$\n",
    "\n",
    "- Inputs:\n",
    "  - $\\ell = \\sum_{|w| \\leq n} \\alpha_w w$ as a symbolic linear combination of words of length up to $n$;\n",
    "  - $\\ell_0 = \\sum_{|w| \\leq n_0} \\beta_w w$ as a linear combination of words of length up to $n_0$;\n",
    "  - initial wealth $p_0 \\in \\mathbb{R}$;\n",
    "\n",
    "\n",
    "- Output:\n",
    "  - $\\ell_0 - p_0 \\textbf 0 - (\\ell \\prec \\mathbf{2})) * (\\ell_0 - p_0 \\textbf 0 - (\\ell \\prec \\mathbf{2})= \\sum_{|w| \\leq \\max\\{n_0,n+1\\}} \\gamma_w w$ as a symbolic linear combination of words of length up to $\\max\\{n_0, n+1\\}$;"
   ]
  },
  {
   "cell_type": "code",
   "execution_count": 80,
   "metadata": {
    "id": "-_UrTrFxVo9T"
   },
   "outputs": [],
   "source": [
    "def quadratic_hedging_linear_functional(ell0, ell, p0):\n",
    "    A = ell0 - p0*word2Elt('') - rightHalfShuffleProduct(ell, word2Elt('2'))\n",
    "    return shuffleProduct(A, A)"
   ]
  },
  {
   "cell_type": "markdown",
   "metadata": {
    "id": "CWmfmosNNvfL"
   },
   "source": [
    "# Final optimisation"
   ]
  },
  {
   "cell_type": "code",
   "execution_count": 74,
   "metadata": {
    "colab": {
     "base_uri": "https://localhost:8080/"
    },
    "id": "C8vL6Swm7STG",
    "outputId": "d958b48a-8e5c-4f6c-8ddd-1d2b673891a7"
   },
   "outputs": [
    {
     "name": "stdout",
     "output_type": "stream",
     "text": [
      "                            OLS Regression Results                            \n",
      "==============================================================================\n",
      "Dep. Variable:                      y   R-squared:                       1.000\n",
      "Model:                            OLS   Adj. R-squared:                  1.000\n",
      "Method:                 Least Squares   F-statistic:                 5.166e+09\n",
      "Date:                Mon, 06 Mar 2023   Prob (F-statistic):               0.00\n",
      "Time:                        12:57:54   Log-Likelihood:                 38978.\n",
      "No. Observations:                4431   AIC:                        -7.795e+04\n",
      "Df Residuals:                    4426   BIC:                        -7.791e+04\n",
      "Df Model:                           4                                         \n",
      "Covariance Type:            nonrobust                                         \n",
      "==============================================================================\n",
      "                 coef    std err          t      P>|t|      [0.025      0.975]\n",
      "------------------------------------------------------------------------------\n",
      "const          0.0679   5.87e+07   1.16e-09      1.000   -1.15e+08    1.15e+08\n",
      "x1            -0.0613    4.6e+07  -1.33e-09      1.000   -9.02e+07    9.02e+07\n",
      "x2             0.3332   1.01e+05   3.29e-06      1.000   -1.98e+05    1.98e+05\n",
      "x3            -0.0331   2.53e+07  -1.31e-09      1.000   -4.96e+07    4.96e+07\n",
      "x4            -0.3282   1.01e+05  -3.24e-06      1.000   -1.98e+05    1.98e+05\n",
      "x5             0.6618   1.01e+05   6.54e-06      1.000   -1.98e+05    1.98e+05\n",
      "x6          8.362e-17    2.4e-05   3.49e-12      1.000    -4.7e-05     4.7e-05\n",
      "==============================================================================\n",
      "Omnibus:                     1074.797   Durbin-Watson:                   0.000\n",
      "Prob(Omnibus):                  0.000   Jarque-Bera (JB):             2656.420\n",
      "Skew:                           1.326   Prob(JB):                         0.00\n",
      "Kurtosis:                       5.712   Cond. No.                     1.13e+18\n",
      "==============================================================================\n",
      "\n",
      "Notes:\n",
      "[1] Standard Errors assume that the covariance matrix of the errors is correctly specified.\n",
      "[2] The smallest eigenvalue is 7.9e-33. This might indicate that there are\n",
      "strong multicollinearity problems or that the design matrix is singular.\n",
      "errors: 4431\n"
     ]
    }
   ],
   "source": [
    "# truncation levels\n",
    "n, n0 = 2, 2\n",
    "\n",
    "# number of sample paths\n",
    "n_samples = 10000\n",
    "\n",
    "# initial wealth\n",
    "p0 = 0.001\n",
    "\n",
    "# Fixed strike Asian call payoff\n",
    "K = 0.01\n",
    "f_asian = lambda x : max(np.mean(x) - K, 0.)\n",
    "\n",
    "# linear functional ell0 \n",
    "ell0 = sig_payoff_approximation(f_asian, n0, n_samples)\n",
    "\n",
    "# linear functional ell at initialisation\n",
    "ell_coeffs = sym.symbols(['a0'] + ['a' + ''.join(map(str,i)) for j in range(1, n+1) for i in product([1,2], repeat=j)])\n",
    "ell = make_linear_functional(ell_coeffs, n)\n",
    "\n",
    "## comment: change to the commented line\n",
    "# expected signature\n",
    "esig = ES(n_samples, max(n0, n+1))\n",
    "# esig = ES(n_samples, 2*max(n0, n+1))\n",
    "\n",
    "# quadratic hedging functional\n",
    "final_functional = quadratic_hedging_linear_functional(ell0, ell, p0)\n",
    "\n",
    "# final polynomial\n",
    "polynomial_ = dotprod(final_functional, esig)\n",
    "\n",
    "# turn symbolic polynomial into polynomial function \n",
    "polynomial = sym.lambdify([ell_coeffs], polynomial_)\n",
    "polynomial_function = lambda a: polynomial(a)"
   ]
  },
  {
   "cell_type": "code",
   "execution_count": 75,
   "metadata": {
    "colab": {
     "base_uri": "https://localhost:8080/",
     "height": 105
    },
    "id": "gLMH8zIRUhlG",
    "outputId": "4ac2d425-1e00-48b2-b5a5-e935e80afeea"
   },
   "outputs": [
    {
     "data": {
      "text/latex": [
       "$\\displaystyle - 0.0274687928822035 a_{0} - 3.54785760415669 \\cdot 10^{-5} a_{1} - 0.000141261513127848 a_{11} - 0.00142317874408645 a_{12} - 0.000237144541777921 a_{2} - 2.85715655930649 \\cdot 10^{-5} a_{21} - 0.000141507096235234 a_{22} + 0.00634426987944965 \\left(8.36190925529445 \\cdot 10^{-17} - a_{2}\\right) \\left(0.333208671305329 - a_{0}\\right) + 0.042344366660059 \\left(0.333208671305329 - a_{0}\\right)^{2} + 0.0429644549911052 \\left(0.333208671305329 - a_{0}\\right) \\left(- a_{1} - 0.328208851162344\\right) + 0.00901221712073891$"
      ],
      "text/plain": [
       "-0.0274687928822035*a0 - 3.54785760415669e-5*a1 - 0.000141261513127848*a11 - 0.00142317874408645*a12 - 0.000237144541777921*a2 - 2.85715655930649e-5*a21 - 0.000141507096235234*a22 + 0.00634426987944965*(8.36190925529445e-17 - a2)*(0.333208671305329 - a0) + 0.042344366660059*(0.333208671305329 - a0)**2 + 0.0429644549911052*(0.333208671305329 - a0)*(-a1 - 0.328208851162344) + 0.00901221712073891"
      ]
     },
     "execution_count": 75,
     "metadata": {},
     "output_type": "execute_result"
    }
   ],
   "source": [
    "polynomial_"
   ]
  },
  {
   "cell_type": "code",
   "execution_count": 78,
   "metadata": {
    "colab": {
     "base_uri": "https://localhost:8080/",
     "height": 49,
     "referenced_widgets": [
      "5041d214bb094fbdbc733bef3e56ae26",
      "9cd7c1c9f8d74501bb4a9113ed23cc8a",
      "29c16f4b48d1439ea9d25da7e11cebd5",
      "91f8718754dc47979e83353d77637949",
      "3b2af473024541d2ab4d8254041fd157",
      "7be8354f85c74e80ad1b26beb9d0c8e0",
      "0c8a77a5f86745e2be5bc963cd962d62",
      "5b34a70ef8b94d7dab897bf6d2abdc1c",
      "b81ce30c36dc4e2f99c532652805b1ef",
      "3fe0ad232a3244e2af29e52ee61351b8",
      "ba9d1cb20805425981d17f05457a7767"
     ]
    },
    "id": "OZhbQUAsW8xp",
    "outputId": "ec2687cb-3901-4410-8ae0-336fbd010243"
   },
   "outputs": [
    {
     "data": {
      "application/vnd.jupyter.widget-view+json": {
       "model_id": "5041d214bb094fbdbc733bef3e56ae26",
       "version_major": 2,
       "version_minor": 0
      },
      "text/plain": [
       "  0%|          | 0/10000 [00:00<?, ?it/s]"
      ]
     },
     "metadata": {},
     "output_type": "display_data"
    }
   ],
   "source": [
    "# optimising by gradient descent \n",
    "weigths = torch.nn.parameter.Parameter(0.001*torch.ones(len(ell_coeffs), requires_grad=True))\n",
    "optimizer = torch.optim.Adam([weigths], lr=1e-3)\n",
    "loss_ = []\n",
    "for i in trange(10000):\n",
    "    optimizer.zero_grad()\n",
    "    loss = polynomial_function(weigths)\n",
    "    loss_.append(loss.item())\n",
    "    loss.backward()\n",
    "    optimizer.step()"
   ]
  },
  {
   "cell_type": "code",
   "execution_count": 79,
   "metadata": {
    "colab": {
     "base_uri": "https://localhost:8080/",
     "height": 265
    },
    "id": "8b26rBSsRssR",
    "outputId": "10dd1b12-fd87-4f40-fcdc-76b28d586778"
   },
   "outputs": [
    {
     "data": {
      "image/png": "[encoded data removed]",
      "text/plain": [
       "<Figure size 432x288 with 1 Axes>"
      ]
     },
     "metadata": {
      "needs_background": "light"
     },
     "output_type": "display_data"
    }
   ],
   "source": [
    "plt.plot(loss_)\n",
    "plt.show()"
   ]
  },
  {
   "cell_type": "code",
   "execution_count": null,
   "metadata": {
    "id": "ULGhmku6DQgi"
   },
   "outputs": [],
   "source": []
  }
 ],
 "metadata": {
  "colab": {
   "provenance": []
  },
  "kernelspec": {
   "display_name": "Python 3 (ipykernel)",
   "language": "python",
   "name": "python3"
  },
  "language_info": {
   "codemirror_mode": {
    "name": "ipython",
    "version": 3
   },
   "file_extension": ".py",
   "mimetype": "text/x-python",
   "name": "python",
   "nbconvert_exporter": "python",
   "pygments_lexer": "ipython3",
   "version": "3.9.13"
  },
  "widgets": {
   "application/vnd.jupyter.widget-state+json": {
    "0c8a77a5f86745e2be5bc963cd962d62": {
     "model_module": "@jupyter-widgets/controls",
     "model_module_version": "1.5.0",
     "model_name": "DescriptionStyleModel",
     "state": {
      "_model_module": "@jupyter-widgets/controls",
      "_model_module_version": "1.5.0",
      "_model_name": "DescriptionStyleModel",
      "_view_count": null,
      "_view_module": "@jupyter-widgets/base",
      "_view_module_version": "1.2.0",
      "_view_name": "StyleView",
      "description_width": ""
     }
    },
    "29c16f4b48d1439ea9d25da7e11cebd5": {
     "model_module": "@jupyter-widgets/controls",
     "model_module_version": "1.5.0",
     "model_name": "FloatProgressModel",
     "state": {
      "_dom_classes": [],
      "_model_module": "@jupyter-widgets/controls",
      "_model_module_version": "1.5.0",
      "_model_name": "FloatProgressModel",
      "_view_count": null,
      "_view_module": "@jupyter-widgets/controls",
      "_view_module_version": "1.5.0",
      "_view_name": "ProgressView",
      "bar_style": "success",
      "description": "",
      "description_tooltip": null,
      "layout": "IPY_MODEL_5b34a70ef8b94d7dab897bf6d2abdc1c",
      "max": 10000,
      "min": 0,
      "orientation": "horizontal",
      "style": "IPY_MODEL_b81ce30c36dc4e2f99c532652805b1ef",
      "value": 10000
     }
    },
    "3b2af473024541d2ab4d8254041fd157": {
     "model_module": "@jupyter-widgets/base",
     "model_module_version": "1.2.0",
     "model_name": "LayoutModel",
     "state": {
      "_model_module": "@jupyter-widgets/base",
      "_model_module_version": "1.2.0",
      "_model_name": "LayoutModel",
      "_view_count": null,
      "_view_module": "@jupyter-widgets/base",
      "_view_module_version": "1.2.0",
      "_view_name": "LayoutView",
      "align_content": null,
      "align_items": null,
      "align_self": null,
      "border": null,
      "bottom": null,
      "display": null,
      "flex": null,
      "flex_flow": null,
      "grid_area": null,
      "grid_auto_columns": null,
      "grid_auto_flow": null,
      "grid_auto_rows": null,
      "grid_column": null,
      "grid_gap": null,
      "grid_row": null,
      "grid_template_areas": null,
      "grid_template_columns": null,
      "grid_template_rows": null,
      "height": null,
      "justify_content": null,
      "justify_items": null,
      "left": null,
      "margin": null,
      "max_height": null,
      "max_width": null,
      "min_height": null,
      "min_width": null,
      "object_fit": null,
      "object_position": null,
      "order": null,
      "overflow": null,
      "overflow_x": null,
      "overflow_y": null,
      "padding": null,
      "right": null,
      "top": null,
      "visibility": null,
      "width": null
     }
    },
    "3fe0ad232a3244e2af29e52ee61351b8": {
     "model_module": "@jupyter-widgets/base",
     "model_module_version": "1.2.0",
     "model_name": "LayoutModel",
     "state": {
      "_model_module": "@jupyter-widgets/base",
      "_model_module_version": "1.2.0",
      "_model_name": "LayoutModel",
      "_view_count": null,
      "_view_module": "@jupyter-widgets/base",
      "_view_module_version": "1.2.0",
      "_view_name": "LayoutView",
      "align_content": null,
      "align_items": null,
      "align_self": null,
      "border": null,
      "bottom": null,
      "display": null,
      "flex": null,
      "flex_flow": null,
      "grid_area": null,
      "grid_auto_columns": null,
      "grid_auto_flow": null,
      "grid_auto_rows": null,
      "grid_column": null,
      "grid_gap": null,
      "grid_row": null,
      "grid_template_areas": null,
      "grid_template_columns": null,
      "grid_template_rows": null,
      "height": null,
      "justify_content": null,
      "justify_items": null,
      "left": null,
      "margin": null,
      "max_height": null,
      "max_width": null,
      "min_height": null,
      "min_width": null,
      "object_fit": null,
      "object_position": null,
      "order": null,
      "overflow": null,
      "overflow_x": null,
      "overflow_y": null,
      "padding": null,
      "right": null,
      "top": null,
      "visibility": null,
      "width": null
     }
    },
    "5041d214bb094fbdbc733bef3e56ae26": {
     "model_module": "@jupyter-widgets/controls",
     "model_module_version": "1.5.0",
     "model_name": "HBoxModel",
     "state": {
      "_dom_classes": [],
      "_model_module": "@jupyter-widgets/controls",
      "_model_module_version": "1.5.0",
      "_model_name": "HBoxModel",
      "_view_count": null,
      "_view_module": "@jupyter-widgets/controls",
      "_view_module_version": "1.5.0",
      "_view_name": "HBoxView",
      "box_style": "",
      "children": [
       "IPY_MODEL_9cd7c1c9f8d74501bb4a9113ed23cc8a",
       "IPY_MODEL_29c16f4b48d1439ea9d25da7e11cebd5",
       "IPY_MODEL_91f8718754dc47979e83353d77637949"
      ],
      "layout": "IPY_MODEL_3b2af473024541d2ab4d8254041fd157"
     }
    },
    "5b34a70ef8b94d7dab897bf6d2abdc1c": {
     "model_module": "@jupyter-widgets/base",
     "model_module_version": "1.2.0",
     "model_name": "LayoutModel",
     "state": {
      "_model_module": "@jupyter-widgets/base",
      "_model_module_version": "1.2.0",
      "_model_name": "LayoutModel",
      "_view_count": null,
      "_view_module": "@jupyter-widgets/base",
      "_view_module_version": "1.2.0",
      "_view_name": "LayoutView",
      "align_content": null,
      "align_items": null,
      "align_self": null,
      "border": null,
      "bottom": null,
      "display": null,
      "flex": null,
      "flex_flow": null,
      "grid_area": null,
      "grid_auto_columns": null,
      "grid_auto_flow": null,
      "grid_auto_rows": null,
      "grid_column": null,
      "grid_gap": null,
      "grid_row": null,
      "grid_template_areas": null,
      "grid_template_columns": null,
      "grid_template_rows": null,
      "height": null,
      "justify_content": null,
      "justify_items": null,
      "left": null,
      "margin": null,
      "max_height": null,
      "max_width": null,
      "min_height": null,
      "min_width": null,
      "object_fit": null,
      "object_position": null,
      "order": null,
      "overflow": null,
      "overflow_x": null,
      "overflow_y": null,
      "padding": null,
      "right": null,
      "top": null,
      "visibility": null,
      "width": null
     }
    },
    "7be8354f85c74e80ad1b26beb9d0c8e0": {
     "model_module": "@jupyter-widgets/base",
     "model_module_version": "1.2.0",
     "model_name": "LayoutModel",
     "state": {
      "_model_module": "@jupyter-widgets/base",
      "_model_module_version": "1.2.0",
      "_model_name": "LayoutModel",
      "_view_count": null,
      "_view_module": "@jupyter-widgets/base",
      "_view_module_version": "1.2.0",
      "_view_name": "LayoutView",
      "align_content": null,
      "align_items": null,
      "align_self": null,
      "border": null,
      "bottom": null,
      "display": null,
      "flex": null,
      "flex_flow": null,
      "grid_area": null,
      "grid_auto_columns": null,
      "grid_auto_flow": null,
      "grid_auto_rows": null,
      "grid_column": null,
      "grid_gap": null,
      "grid_row": null,
      "grid_template_areas": null,
      "grid_template_columns": null,
      "grid_template_rows": null,
      "height": null,
      "justify_content": null,
      "justify_items": null,
      "left": null,
      "margin": null,
      "max_height": null,
      "max_width": null,
      "min_height": null,
      "min_width": null,
      "object_fit": null,
      "object_position": null,
      "order": null,
      "overflow": null,
      "overflow_x": null,
      "overflow_y": null,
      "padding": null,
      "right": null,
      "top": null,
      "visibility": null,
      "width": null
     }
    },
    "91f8718754dc47979e83353d77637949": {
     "model_module": "@jupyter-widgets/controls",
     "model_module_version": "1.5.0",
     "model_name": "HTMLModel",
     "state": {
      "_dom_classes": [],
      "_model_module": "@jupyter-widgets/controls",
      "_model_module_version": "1.5.0",
      "_model_name": "HTMLModel",
      "_view_count": null,
      "_view_module": "@jupyter-widgets/controls",
      "_view_module_version": "1.5.0",
      "_view_name": "HTMLView",
      "description": "",
      "description_tooltip": null,
      "layout": "IPY_MODEL_3fe0ad232a3244e2af29e52ee61351b8",
      "placeholder": "​",
      "style": "IPY_MODEL_ba9d1cb20805425981d17f05457a7767",
      "value": " 10000/10000 [00:11&lt;00:00, 1092.22it/s]"
     }
    },
    "9cd7c1c9f8d74501bb4a9113ed23cc8a": {
     "model_module": "@jupyter-widgets/controls",
     "model_module_version": "1.5.0",
     "model_name": "HTMLModel",
     "state": {
      "_dom_classes": [],
      "_model_module": "@jupyter-widgets/controls",
      "_model_module_version": "1.5.0",
      "_model_name": "HTMLModel",
      "_view_count": null,
      "_view_module": "@jupyter-widgets/controls",
      "_view_module_version": "1.5.0",
      "_view_name": "HTMLView",
      "description": "",
      "description_tooltip": null,
      "layout": "IPY_MODEL_7be8354f85c74e80ad1b26beb9d0c8e0",
      "placeholder": "​",
      "style": "IPY_MODEL_0c8a77a5f86745e2be5bc963cd962d62",
      "value": "100%"
     }
    },
    "b81ce30c36dc4e2f99c532652805b1ef": {
     "model_module": "@jupyter-widgets/controls",
     "model_module_version": "1.5.0",
     "model_name": "ProgressStyleModel",
     "state": {
      "_model_module": "@jupyter-widgets/controls",
      "_model_module_version": "1.5.0",
      "_model_name": "ProgressStyleModel",
      "_view_count": null,
      "_view_module": "@jupyter-widgets/base",
      "_view_module_version": "1.2.0",
      "_view_name": "StyleView",
      "bar_color": null,
      "description_width": ""
     }
    },
    "ba9d1cb20805425981d17f05457a7767": {
     "model_module": "@jupyter-widgets/controls",
     "model_module_version": "1.5.0",
     "model_name": "DescriptionStyleModel",
     "state": {
      "_model_module": "@jupyter-widgets/controls",
      "_model_module_version": "1.5.0",
      "_model_name": "DescriptionStyleModel",
      "_view_count": null,
      "_view_module": "@jupyter-widgets/base",
      "_view_module_version": "1.2.0",
      "_view_name": "StyleView",
      "description_width": ""
     }
    }
   }
  }
 },
 "nbformat": 4,
 "nbformat_minor": 1
}
