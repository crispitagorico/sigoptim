{
 "cells": [
  {
   "cell_type": "markdown",
   "metadata": {
    "colab_type": "text",
    "id": "view-in-github"
   },
   "source": [
    "<a href=\"https://colab.research.google.com/github/crispitagorico/sigoptim/blob/main/mean_variance.ipynb\" target=\"_parent\"><img src=\"https://colab.research.google.com/assets/colab-badge.svg\" alt=\"Open In Colab\"/></a>"
   ]
  },
  {
   "cell_type": "markdown",
   "metadata": {
    "id": "m1w3Hld1eSmy"
   },
   "source": [
    "# Classical mean variance optimisation\n",
    "\n",
    "Let $P$ be a portfolio of assets $A_1,...,A_N$ with weights $\\mathbf w = (w_1,...,w_N) \\in \\mathbb{R}^N$ and (random) returns $\\mathbf r = (r_1,...,r_N) \\in \\mathbb{R}^N$. \n",
    "\n",
    "The portfolio total expected P&L is given by\n",
    "$$\\mathbf w^\\top \\mathbb E[\\mathbf r] = \\sum_{i=1}^N w_i \\mathbb E[r_i].$$\n",
    "\n",
    "Let $\\Sigma = \\mathbb E[(\\mathbf r - \\mathbb E[\\mathbf r])(\\mathbf r - \\mathbb E[\\mathbf r])^\\top]$ be the covariance matrix of the returns.\n",
    "\n",
    "The portfolio total risk is given by\n",
    "$$\\mathbf w^\\top \\Sigma \\mathbf w = \\sum_{i,j=1}^N w_i\\Sigma_{i,j}w_j.$$\n",
    "\n",
    "The mean-variance optimisation problem is formulated as follows\n",
    "$$\\min_{\\mathbf w} \\mathbf w^\\top \\Sigma \\mathbf w \\quad \\text{ subject to } \\ \\mathbf w^\\top \\mathbb E[\\mathbf r] = \\mu, \\quad \\sum_{i=1}^Nw_i=1 \\ \\text{ and } \\ 0 \\leq w_i \\leq 1,$$\n",
    "\n",
    "where $\\mu \\in [0,\\infty)$ is the expected P&L."
   ]
  },
  {
   "cell_type": "code",
   "execution_count": 63,
   "metadata": {
    "id": "O1hdKLAhssTm",
    "pycharm": {
     "is_executing": true
    }
   },
   "outputs": [],
   "source": [
    "import numpy as np\n",
    "import pandas as pd\n",
    "import scipy \n",
    "import matplotlib.pyplot as plt\n",
    "import iisignature\n",
    "import sympy as sym\n",
    "from sklearn.linear_model import LinearRegression\n",
    "\n",
    "from hall_areas.free_lie_algebra import *"
   ]
  },
  {
   "cell_type": "code",
   "execution_count": 7,
   "metadata": {
    "id": "xfrFt8qj1HVV"
   },
   "outputs": [],
   "source": [
    "def mean_variance_optim(expected_returns, covariance_matrix_returns, expected_pnl):\n",
    "\n",
    "    # initialise weights\n",
    "    N = expected_returns.size\n",
    "    w0 = np.ones(N)\n",
    "\n",
    "    # objective\n",
    "    objective = lambda w: np.matmul(w.T, np.matmul(covariance_matrix_returns, w))\n",
    "\n",
    "    # constraints\n",
    "    bnds = tuple(N*[(0., 1.)])\n",
    "    cons = ({'type': 'eq', 'fun': lambda w: np.sum(w) - 1.},\n",
    "            {'type': 'eq', 'fun': lambda w: np.matmul(w.T, expected_returns) - expected_pnl})\n",
    "\n",
    "    # run optimisation\n",
    "    optim = scipy.optimize.minimize(fun=objective, x0=w0, bounds=bnds, constraints=cons)\n",
    "\n",
    "    # return optimal weights \n",
    "    return optim.x"
   ]
  },
  {
   "cell_type": "code",
   "execution_count": 61,
   "metadata": {
    "id": "rcmZAyg8s2p-"
   },
   "outputs": [],
   "source": [
    "# number of assets\n",
    "N = 10\n",
    "\n",
    "# stocks\n",
    "df      = pd.read_csv('stocks.csv', index_col=0)\n",
    "names   = df.columns[:N].to_list()\n",
    "prices  = df.iloc[-40:, :N].to_numpy()\n",
    "returns = np.diff(prices, axis=0)/prices[:-1, :]\n",
    "\n",
    "# expected returns\n",
    "expected_returns = np.mean(returns, axis=0)\n",
    "\n",
    "# covariance matrix of returns\n",
    "covariance_matrix_returns = np.cov(returns, rowvar=False)\n",
    "\n",
    "# expected portfolio returns\n",
    "expected_pnls = np.linspace(0.0, 0.01, 50)\n",
    "\n",
    "# optimal weights for given expected returns\n",
    "optimal_weights = [mean_variance_optim(expected_returns, covariance_matrix_returns, pnl) for pnl in expected_pnls]\n",
    "\n",
    "# actual portfolio P&L\n",
    "pnls = [np.matmul(w.T, expected_returns) for w in optimal_weights]\n",
    "\n",
    "# portfolio risk\n",
    "risks = [np.matmul(w.T, np.matmul(covariance_matrix_returns, w)) for w in optimal_weights]"
   ]
  },
  {
   "cell_type": "code",
   "execution_count": 62,
   "metadata": {
    "colab": {
     "base_uri": "https://localhost:8080/",
     "height": 295
    },
    "id": "YActw6c-zaK7",
    "outputId": "449074a6-4cbc-4e1f-b742-b8b79c17dd8c"
   },
   "outputs": [
    {
     "data": {
      "image/png": "[encoded data removed]",
      "text/plain": [
       "<Figure size 640x480 with 1 Axes>"
      ]
     },
     "metadata": {},
     "output_type": "display_data"
    }
   ],
   "source": [
    "plt.scatter(risks, pnls)\n",
    "plt.xlabel('Portfolio risk')\n",
    "plt.ylabel('Portfolio P&L')\n",
    "plt.title('Efficient frontier')\n",
    "plt.show()"
   ]
  },
  {
   "cell_type": "markdown",
   "metadata": {
    "id": "JrqQZ1JAstXr"
   },
   "source": [
    "# Signature mean variance optimisation\n",
    "\n",
    "Consider an $N$-dimensional price process $\\mathbf S = (S^1,...,S^N) : [0,T] \\to \\mathbb{R}^N$. \n",
    "\n",
    "Consider $N$ linear functionals $\\ell_i \\in L(T^M(\\mathbb{R}^N), \\mathbb{R})$ for $i=1,...,N$ parameterised as\n",
    "\n",
    "$$\\ell_i = \\sum_{|w| \\leq M} \\alpha^i_w w$$\n",
    "\n",
    "Let $\\ell = (\\ell_1, ... ,\\ell_N) \\in L(T^M(\\mathbb{R}^N), \\mathbb{R}^N)$.\n",
    "\n",
    "The expected P&L of a signature portfolio with weighting functional $\\ell$ is given by\n",
    "\n",
    "\\begin{align}\n",
    "\\mathbb E \\left[\\int_0^T(\\ell,S(X)_{0,t})^\\top dX_t\\right] &= \\mathbb E \\left[ \\sum_{i=1}^N \\int_0^T(\\ell_i, S(X)_{0,t}) dX^i_t\\right] \\\\\n",
    "&= \\mathbb E \\left[ \\sum_{i=1}^N \\left(\\ell_i \\prec \\mathbf i, S(X)_{0,T}\\right)\\right] \\\\\n",
    "&= \\sum_{i=1}^N \\left(\\ell_i \\prec \\mathbf i, \\mathbb E \\left[S(X)_{0,T}\\right]\\right)\n",
    "\\end{align}\n",
    "\n",
    "where $\\prec$ is the (right) half shuffle product (assuming paths start at $0$).\n",
    "\n",
    "The portfolio total risk is given by\n",
    "\n",
    "\\begin{align}\n",
    "& \\mathbb E \\left[\\left(\\int_0^T(\\ell,S(X)_{0,t})^\\top dX_t \\right)^2\\right] - \\left(\\mathbb E \\left[\\int_0^T(\\ell,S(X)_{0,t})^\\top dX_t \\right]\\right)^2\\\\\n",
    "=& \\ \\mathbb E \\left[ \\sum_{i,j=1}^N \\left(\\ell_i \\prec \\mathbf i, S(X)_{0,T}\\right)\\left(\\ell_j \\prec \\mathbf j, S(X)_{0,T}\\right)\\right] \\\\\n",
    "& \\quad - \\sum_{i,j=1}^N  \\left(\\ell_i \\prec \\mathbf i, \\mathbb E \\left[S(X)_{0,T}\\right]\\right)\\left(\\ell_j \\prec \\mathbf j, \\mathbb E \\left[ S(X)_{0,T}\\right]\\right) \\\\\n",
    "=&  \\sum_{i,j=1}^N \\left((\\ell_i \\prec \\mathbf i) * (\\ell_j \\prec \\mathbf j), \\mathbb E \\left[ S(X)_{0,T}\\right]\\right) -  \\left(\\ell_i \\prec \\mathbf i, \\mathbb E \\left[S(X)_{0,T}\\right]\\right)\\left(\\ell_j \\prec \\mathbf j, \\mathbb E \\left[ S(X)_{0,T}\\right]\\right)\n",
    "\\end{align}\n",
    "\n",
    "where $*$ is the shuffle product.\n",
    "\n",
    "\n",
    "\n",
    "The signature mean-variance optimisation problem is formulated as follows\n",
    "$$\\min_{\\ell} \\sum_{i,j=1}^N \\left((\\ell_i \\prec \\mathbf i) * (\\ell_j \\prec \\mathbf j), \\mathbb E \\left[ S(X)_{0,T}\\right]\\right) -  \\left(\\ell_i \\prec \\mathbf i, \\mathbb E \\left[S(X)_{0,T}\\right]\\right)\\left(\\ell_j \\prec \\mathbf j, \\mathbb E \\left[ S(X)_{0,T}\\right]\\right)$$  \n",
    "\n",
    "subject to \n",
    "\n",
    "$$\\sum_{i=1}^N \\left(\\ell_i \\prec \\mathbf i, \\mathbb E \\left[S(X)_{0,T}\\right]\\right) = \\mu$$\n",
    "\n",
    "and need to find a way to formulate these constraints $\\sum_{i=1}^Nw_i=1 \\ \\text{ and } \\ 0 \\leq w_i \\leq 1$\n",
    "\n",
    "where $\\mu \\in [0,\\infty)$ is the expected P&L.\n",
    "\n",
    "We need to understand\n",
    "\n",
    "$$\\frac{e^{\\left(\\ell_i, S(X)_{0,T}\\right)}}{\\sum_{j=1}^N e^{\\left(\\ell_j, S(X)_{0,T}\\right)}}$$\n",
    "\n",
    "Observe that \n",
    "\n",
    "\\begin{align}\n",
    "  e^{\\left(\\ell_i, S(X)_{0,T}\\right)} &= \\sum_{k=0}^\\infty \\frac{\\left(\\ell_i, S(X)_{0,T}\\right)^k}{k!} \\\\\n",
    "  &= \\sum_{k=0}^\\infty \\frac{\\left(\\ell_i^{*k}, S(X)_{0,T}\\right)}{k!} \\\\\n",
    "  &= \\left(\\sum_{k=0}^\\infty\\frac{\\ell_i^{*k}}{k!}, S(X)_{0,T}\\right) \\\\\n",
    "  &= \\left(e^{\\ell_i}, S(X)_{0,T}\\right)\n",
    "\\end{align}\n",
    "\n",
    "So we need to understand the rational function\n",
    "$$\\frac{\\left(e^{\\ell_i}, S(X)_{0,T}\\right)}{\\left(\\sum_{j=1}^N e^{\\ell_j}, S(X)_{0,T}\\right)}$$"
   ]
  },
  {
   "cell_type": "markdown",
   "metadata": {},
   "source": [
    "### 1. Required functions\n",
    "\n",
    "We import all the tools required to build the signature mean-variance optimisation problem. This includes \n",
    "\n",
    "    1) Synthetic data generator (if required)\n",
    "    2) Linear functional wrapper\n",
    "    3) Expected signature wrapper\n",
    "    4) Function to build the objective function."
   ]
  },
  {
   "cell_type": "code",
   "execution_count": null,
   "metadata": {
    "id": "nfabzxy8ssg8"
   },
   "outputs": [],
   "source": [
    "def make_linear_functional(coeffs, n_):\n",
    "    linear_functional = 0.*word2Elt('')\n",
    "    for i, w in enumerate(wordIter(2, n_)):\n",
    "        linear_functional += coeffs[i]*word2Elt(w)\n",
    "    return linear_functional"
   ]
  }
 ],
 "metadata": {
  "accelerator": "GPU",
  "colab": {
   "include_colab_link": true,
   "provenance": []
  },
  "gpuClass": "standard",
  "kernelspec": {
   "display_name": "Python 3 (ipykernel)",
   "language": "python",
   "name": "python3"
  },
  "language_info": {
   "codemirror_mode": {
    "name": "ipython",
    "version": 3
   },
   "file_extension": ".py",
   "mimetype": "text/x-python",
   "name": "python",
   "nbconvert_exporter": "python",
   "pygments_lexer": "ipython3",
   "version": "3.9.13"
  }
 },
 "nbformat": 4,
 "nbformat_minor": 1
}
