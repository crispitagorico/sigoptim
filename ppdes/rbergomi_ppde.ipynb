{
 "cells": [
  {
   "cell_type": "code",
   "execution_count": 1,
   "metadata": {
    "colab": {
     "base_uri": "https://localhost:8080/"
    },
    "id": "iJv2D01QRPTO",
    "outputId": "9ed45d1c-0f86-4326-affe-728ce8bd47f7"
   },
   "outputs": [],
   "source": [
    "# !pip install git+https://github.com/crispitagorico/sigkernel.git\n",
    "# !git clone 'https://github.com/ryanmccrickerd/rough_bergomi.git'"
   ]
  },
  {
   "cell_type": "code",
   "execution_count": 1,
   "metadata": {
    "id": "rCD6FgadFjvr"
   },
   "outputs": [],
   "source": [
    "import numpy as np\n",
    "import torch\n",
    "from tqdm.notebook import tqdm\n",
    "import matplotlib.pyplot as plt\n",
    "import time\n",
    "\n",
    "from rbergomi import rBergomi_MC_pricer, rBergomi_sigkernel_pricer\n",
    "from utils import *\n",
    "\n",
    "import warnings\n",
    "warnings.filterwarnings('ignore')"
   ]
  },
  {
   "cell_type": "code",
   "execution_count": 2,
   "metadata": {},
   "outputs": [],
   "source": [
    "device = torch.device(\"cuda\" if torch.cuda.is_available() else \"cpu\")"
   ]
  },
  {
   "cell_type": "code",
   "execution_count": 3,
   "metadata": {
    "id": "T5q7TYWVPtbN"
   },
   "outputs": [],
   "source": [
    "# model parameters\n",
    "T, a, xi, eta, rho = 1., -.4, .055, 1.9, -.9\n",
    "n_increments       = 20\n",
    "log_strike         = -5.  \n",
    "payoff             = lambda x: max(np.exp(x) - np.exp(log_strike), 0.) # call\n",
    "# payoff             = lambda x: int(np.exp(x) - np.exp(log_strike) > 0) # digital\n",
    "x_var              = 5.\n",
    "\n",
    "# evaluation points\n",
    "n_eval       = 50\n",
    "t_inds_eval  = np.random.choice(n_increments, n_eval)\n",
    "xs_eval      = generate_xs(xi, x_var, t_inds_eval)\n",
    "paths_eval   = generate_theta_paths(t_inds_eval, n_increments, T, a)\n",
    "\n",
    "# true prices\n",
    "n_samples_MC_exact = 100000\n",
    "mc_pricer_exact = rBergomi_MC_pricer(n_increments, n_samples_MC_exact, T, a, xi, eta, rho)\n",
    "mc_prices_exact = mc_pricer_exact.fit_predict(t_inds_eval, xs_eval, paths_eval, payoff)\n",
    "\n",
    "# sigkernel parameters\n",
    "sigma_t, sigma_x, sigma_sig, dyadic_order, max_batch = 0.5, 0.5, 1e5, 1, 50"
   ]
  },
  {
   "cell_type": "code",
   "execution_count": 6,
   "metadata": {},
   "outputs": [
    {
     "name": "stdout",
     "output_type": "stream",
     "text": [
      "Monte Carlo | 'Linf_error': 0.10000 | sample paths: 30000 | time: 11.2846 sec\n",
      "PPDE (sigkernel) | 'Linf_error': 0.10000 | collocation points: (500,400) | time: 0.7801 sec \n",
      "\n"
     ]
    }
   ],
   "source": [
    "# error_fn, error_name, precisions = l2_error, 'L2_error', [1e-2, 1e-3, 1e-4]\n",
    "error_fn, error_name, precisions = linf_error, 'Linf_error', [1e-1]\n",
    "\n",
    "n_samples_mc, error_mc = 0, 1e9\n",
    "m, n, error_sig        = 0, 0, 1e9\n",
    "\n",
    "for precision in precisions:\n",
    "\n",
    "    # MC prices\n",
    "    while error_mc > precision:\n",
    "        n_samples_mc += 5000\n",
    "        mc_pricer = rBergomi_MC_pricer(n_increments, n_samples_mc, T, a, xi, eta, rho)\n",
    "        t0 = time.time()\n",
    "        mc_prices = mc_pricer.fit_predict(t_inds_eval, xs_eval, paths_eval, payoff)\n",
    "        t1 = time.time()\n",
    "        error_mc  = error_fn(mc_prices, mc_prices_exact)\n",
    "\n",
    "    print('Monte Carlo | %r: %2.5f | sample paths: %r | time: %2.4f sec' % (error_name, precision, n_samples_mc, t1-t0))\n",
    "    \n",
    "    # PPDE prices\n",
    "    while error_sig > precision:\n",
    "        m += 100\n",
    "        n += 80\n",
    "        sig_pricer = rBergomi_sigkernel_pricer(n_increments, x_var, m, n, T, a, xi, eta, rho, sigma_t, sigma_x, sigma_sig, dyadic_order, max_batch, device)\n",
    "        sig_pricer.fit(payoff)\n",
    "        t0 = time.time()\n",
    "        sig_prices = sig_pricer.predict(t_inds_eval, xs_eval, paths_eval) \n",
    "        t1 = time.time()\n",
    "        error_sig = error_fn(sig_prices, mc_prices_exact)\n",
    "        torch.cuda.empty_cache()\n",
    "\n",
    "    print('PPDE (sigkernel) | %r: %2.5f | collocation points: (%r,%r) | time: %2.4f sec \\n' % (error_name, precision, m, n, (t1-t0)/2))\n"
   ]
  },
  {
   "cell_type": "code",
   "execution_count": null,
   "metadata": {},
   "outputs": [],
   "source": [
    "# plot_results(mc_prices_exact, sig_prices, m, n, error_fn, error_name)"
   ]
  },
  {
   "cell_type": "code",
   "execution_count": null,
   "metadata": {},
   "outputs": [],
   "source": []
  }
 ],
 "metadata": {
  "accelerator": "GPU",
  "colab": {
   "provenance": []
  },
  "gpuClass": "standard",
  "kernel_info": {
   "name": "python38-azureml"
  },
  "kernelspec": {
   "display_name": "Python 3.8 - AzureML",
   "language": "python",
   "name": "python38-azureml"
  },
  "language_info": {
   "codemirror_mode": {
    "name": "ipython",
    "version": 3
   },
   "file_extension": ".py",
   "mimetype": "text/x-python",
   "name": "python",
   "nbconvert_exporter": "python",
   "pygments_lexer": "ipython3",
   "version": "3.8.10"
  },
  "microsoft": {
   "ms_spell_check": {
    "ms_spell_check_language": "en"
   }
  },
  "nteract": {
   "version": "nteract-front-end@1.0.0"
  }
 },
 "nbformat": 4,
 "nbformat_minor": 4
}
